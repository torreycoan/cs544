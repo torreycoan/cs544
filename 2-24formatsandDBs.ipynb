{
 "cells": [
  {
   "cell_type": "code",
   "execution_count": 6,
   "id": "2ecb3e9a-2811-4c4a-9183-dc75a766b726",
   "metadata": {
    "tags": []
   },
   "outputs": [
    {
     "name": "stdout",
     "output_type": "stream",
     "text": [
      "total 21M\n",
      "drwxrwxr-x  6 tcoan tcoan 4.0K Mar  6 22:55 .\n",
      "drwxr-x--- 13 tcoan tcoan 4.0K Mar  6 22:55 ..\n",
      "drwxrwxr-x  2 tcoan tcoan 4.0K Mar  6 22:53 .ipynb_checkpoints\n",
      "-rw-rw-r--  1 tcoan tcoan  13K Feb 27 23:59 2-10to2-13threadsandlocks.ipynb\n",
      "drwxrwxr-x  2 tcoan tcoan 4.0K Feb 26 03:28 2-17docker\n",
      "drwxrwxr-x  2 tcoan tcoan 4.0K Feb 26 03:29 2-17rpc\n",
      "-rw-rw-r--  1 tcoan tcoan 2.3K Mar  6 22:55 2-24formatsandDBs.ipynb\n",
      "-rw-rw-r--  1 tcoan tcoan  84K Feb 24 01:58 2-3to2-6pytorch-demo.ipynb\n",
      "-rw-rw-r--  1 tcoan tcoan  95K Feb 24 01:58 2-8to2-10pytorch-ml.ipynb\n",
      "drwxrwxr-x  2 tcoan tcoan 4.0K Feb 25 03:18 __pycache__\n",
      "-rw-rw-r--  1 tcoan tcoan  21M Jan  5 20:30 hdma-wi-2021.zip\n",
      "-rw-rw-r--  1 tcoan tcoan  374 Feb 24 02:13 math.proto~\n"
     ]
    }
   ],
   "source": [
    "\n",
    "! ls -lah\n",
    "# got hdma-wi-2021.zip which is loan apps in WI from 2021\n"
   ]
  },
  {
   "cell_type": "code",
   "execution_count": 4,
   "id": "8e4bb468-000c-42e2-be54-f2fffb981104",
   "metadata": {
    "tags": []
   },
   "outputs": [
    {
     "name": "stdout",
     "output_type": "stream",
     "text": [
      "avg loan: 204961.21752386744\n",
      "total columns: 99\n",
      "data load seconds: 6.311490297317505\n",
      "computation seconds: 0.0018968582153320312\n"
     ]
    }
   ],
   "source": [
    "! sudo sh -c \"echo 3 > /proc/sys/vm/drop_caches\" #proc file system keeps track of processes . pseudo-file system. doesn't have data. doesn't save stuff. \n",
    "#proc file system lets us send commands to the system\n",
    "#drop_caches empties out that page cache which is bad for performance. wanna do it there to study the performance of reading a file. \n",
    "import time, pandas as pd\n",
    "\n",
    "t0 = time.time()\n",
    "#comparing these two types of loading in the data:\n",
    "#df = pd.read_csv(\"hdma-wi-2021.csv\")\n",
    "df = pd.read_csv(\"hdma-wi-2021.csv\", dtype={col: str for col in [22,23,24,26,27,28,29,30,31,32,33,38,43,44]})\n",
    "t1 = time.time()\n",
    "avg = df[\"loan_amount\"].mean()\n",
    "t2 = time.time()\n",
    "print(\"avg loan:\", avg)\n",
    "print(\"total columns:\", len(df.columns))\n",
    "print(\"data load seconds:\", t1-t0)\n",
    "print(\"computation seconds:\", t2-t1)\n"
   ]
  },
  {
   "cell_type": "code",
   "execution_count": 2,
   "id": "3b7c2083-c384-4588-93d4-a8f954596afb",
   "metadata": {
    "tags": []
   },
   "outputs": [],
   "source": [
    "#df = None"
   ]
  },
  {
   "cell_type": "code",
   "execution_count": 5,
   "id": "75ca834a-9b30-44ce-910b-c8272ed60691",
   "metadata": {
    "tags": []
   },
   "outputs": [],
   "source": [
    "df.to_parquet(\"loans.parquet\")"
   ]
  },
  {
   "cell_type": "code",
   "execution_count": null,
   "id": "663b8d38-f236-4f5b-98df-d75cd5e4553f",
   "metadata": {},
   "outputs": [],
   "source": [
    "df = None"
   ]
  },
  {
   "cell_type": "code",
   "execution_count": 1,
   "id": "d69bb08f-8400-42da-a407-d0879f46d7ab",
   "metadata": {
    "tags": []
   },
   "outputs": [
    {
     "name": "stdout",
     "output_type": "stream",
     "text": [
      "avg loan: 204961.21752386744\n",
      "total columns: 99\n",
      "data load seconds: 1.417102336883545\n",
      "computation seconds: 0.004244565963745117\n"
     ]
    }
   ],
   "source": [
    "! sudo sh -c \"echo 3 > /proc/sys/vm/drop_caches\" #proc file system keeps track of processes . pseudo-file system. doesn't have data. doesn't save stuff. \n",
    "#proc file system lets us send commands to the system\n",
    "#drop_caches empties out that page cache which is bad for performance. wanna do it there to study the performance of reading a file. \n",
    "import time, pandas as pd\n",
    "\n",
    "t0 = time.time()\n",
    "\n",
    "df = pd.read_parquet(\"loans.parquet\")\n",
    "t1 = time.time()\n",
    "avg = df[\"loan_amount\"].mean()\n",
    "t2 = time.time()\n",
    "print(\"avg loan:\", avg)\n",
    "print(\"total columns:\", len(df.columns))\n",
    "print(\"data load seconds:\", t1-t0)\n",
    "print(\"computation seconds:\", t2-t1)\n",
    "\n",
    "#much faster!"
   ]
  },
  {
   "cell_type": "code",
   "execution_count": 4,
   "id": "740336ea-8c7f-45d3-9c26-22dc68978ef2",
   "metadata": {
    "tags": []
   },
   "outputs": [],
   "source": [
    "df = None"
   ]
  },
  {
   "cell_type": "markdown",
   "id": "755ad4c8-60f8-4b45-ab6a-a25aa3ad44b0",
   "metadata": {},
   "source": [
    "# Try to only read one column"
   ]
  },
  {
   "cell_type": "code",
   "execution_count": 5,
   "id": "50c20891-eaad-4ae0-9d8e-dd6be55a9e84",
   "metadata": {
    "tags": []
   },
   "outputs": [
    {
     "name": "stdout",
     "output_type": "stream",
     "text": [
      "avg loan: 204961.21752386744\n",
      "total columns: 1\n",
      "data load seconds: 2.189056158065796\n",
      "computation seconds: 0.0018074512481689453\n"
     ]
    }
   ],
   "source": [
    "! sudo sh -c \"echo 3 > /proc/sys/vm/drop_caches\" #proc file system keeps track of processes . pseudo-file system. doesn't have data. doesn't save stuff. \n",
    "#proc file system lets us send commands to the system\n",
    "#drop_caches empties out that page cache which is bad for performance. wanna do it there to study the performance of reading a file. \n",
    "import time, pandas as pd\n",
    "\n",
    "t0 = time.time()\n",
    "#comparing these two types of loading in the data:\n",
    "df = pd.read_csv(\"hdma-wi-2021.csv\", usecols = ['loan_amount'])\n",
    "#df = pd.read_csv(\"hdma-wi-2021.csv\", dtype={col: str for col in [22,23,24,26,27,28,29,30,31,32,33,38,43,44]})\n",
    "t1 = time.time()\n",
    "avg = df[\"loan_amount\"].mean()\n",
    "t2 = time.time()\n",
    "print(\"avg loan:\", avg)\n",
    "print(\"total columns:\", len(df.columns))\n",
    "print(\"data load seconds:\", t1-t0)\n",
    "print(\"computation seconds:\", t2-t1)\n"
   ]
  },
  {
   "cell_type": "code",
   "execution_count": 6,
   "id": "5f4e4fc2-c39e-4dd7-8980-7cbbdad83a93",
   "metadata": {
    "tags": []
   },
   "outputs": [
    {
     "name": "stdout",
     "output_type": "stream",
     "text": [
      "avg loan: 204961.21752386744\n",
      "total columns: 1\n",
      "data load seconds: 0.03439617156982422\n",
      "computation seconds: 0.003068208694458008\n"
     ]
    }
   ],
   "source": [
    "! sudo sh -c \"echo 3 > /proc/sys/vm/drop_caches\" #proc file system keeps track of processes . pseudo-file system. doesn't have data. doesn't save stuff. \n",
    "#proc file system lets us send commands to the system\n",
    "#drop_caches empties out that page cache which is bad for performance. wanna do it there to study the performance of reading a file. \n",
    "import time, pandas as pd\n",
    "\n",
    "t0 = time.time()\n",
    "\n",
    "df = pd.read_parquet(\"loans.parquet\", columns = ['loan_amount'])\n",
    "t1 = time.time()\n",
    "avg = df[\"loan_amount\"].mean()\n",
    "t2 = time.time()\n",
    "print(\"avg loan:\", avg)\n",
    "print(\"total columns:\", len(df.columns))\n",
    "print(\"data load seconds:\", t1-t0)\n",
    "print(\"computation seconds:\", t2-t1)\n",
    "\n",
    "#much faster!!! again!!!\n",
    "#use parquet for analysis and big files. "
   ]
  },
  {
   "cell_type": "code",
   "execution_count": 7,
   "id": "e228191f-c226-4a13-b555-2e3a7ece3ab6",
   "metadata": {
    "tags": []
   },
   "outputs": [
    {
     "name": "stdout",
     "output_type": "stream",
     "text": [
      "total 203M\n",
      "drwxrwxr-x  6 tcoan tcoan 4.0K Mar  6 23:04 .\n",
      "drwxr-x--- 13 tcoan tcoan 4.0K Mar  6 22:55 ..\n",
      "drwxrwxr-x  2 tcoan tcoan 4.0K Mar  6 22:53 .ipynb_checkpoints\n",
      "-rw-rw-r--  1 tcoan tcoan  13K Feb 27 23:59 2-10to2-13threadsandlocks.ipynb\n",
      "drwxrwxr-x  2 tcoan tcoan 4.0K Feb 26 03:28 2-17docker\n",
      "drwxrwxr-x  2 tcoan tcoan 4.0K Feb 26 03:29 2-17rpc\n",
      "-rw-rw-r--  1 tcoan tcoan 8.1K Mar  6 23:04 2-24formatsandDBs.ipynb\n",
      "-rw-rw-r--  1 tcoan tcoan  84K Feb 24 01:58 2-3to2-6pytorch-demo.ipynb\n",
      "-rw-rw-r--  1 tcoan tcoan  95K Feb 24 01:58 2-8to2-10pytorch-ml.ipynb\n",
      "drwxrwxr-x  2 tcoan tcoan 4.0K Feb 25 03:18 __pycache__\n",
      "-rw-r-----  1 tcoan tcoan 167M Nov  1 18:05 hdma-wi-2021.csv\n",
      "-rw-rw-r--  1 tcoan tcoan  21M Jan  5 20:30 hdma-wi-2021.zip\n",
      "-rw-rw-r--  1 tcoan tcoan  16M Mar  6 23:01 loans.parquet\n",
      "-rw-rw-r--  1 tcoan tcoan  374 Feb 24 02:13 math.proto~\n"
     ]
    }
   ],
   "source": [
    "!ls -lah\n",
    "#parquet is even smaller than original zip file!"
   ]
  },
  {
   "cell_type": "code",
   "execution_count": 8,
   "id": "67aba82f-bfb1-4f74-ab9a-bba10bc7d979",
   "metadata": {
    "tags": []
   },
   "outputs": [],
   "source": [
    "df = None"
   ]
  },
  {
   "cell_type": "markdown",
   "id": "b0b616ab-00d9-444b-8ab0-a02b8b0d3c28",
   "metadata": {},
   "source": [
    "# Compression"
   ]
  },
  {
   "cell_type": "code",
   "execution_count": 9,
   "id": "f986b1d0-5b07-40ec-b880-ce554d422945",
   "metadata": {
    "tags": []
   },
   "outputs": [],
   "source": [
    "df = pd.read_parquet(\"loans.parquet\")"
   ]
  },
  {
   "cell_type": "code",
   "execution_count": 11,
   "id": "d24e96b7-9e74-49fe-a0da-e77c73bc3be7",
   "metadata": {
    "tags": []
   },
   "outputs": [
    {
     "name": "stdout",
     "output_type": "stream",
     "text": [
      "CPU times: user 1.69 s, sys: 288 ms, total: 1.98 s\n",
      "Wall time: 2.13 s\n"
     ]
    }
   ],
   "source": [
    "%%time #easier way to time things!\n",
    "#CPU time = time in program and OS. most of the time i spent was due to CPU worklooking for repetition, not writing to the file\n",
    "\n",
    "df.to_parquet(\"snappy.parquet\", compression = \"snappy\")"
   ]
  },
  {
   "cell_type": "code",
   "execution_count": 12,
   "id": "8cab9c89-49f2-43ba-bb6a-d626fb83f45c",
   "metadata": {
    "tags": []
   },
   "outputs": [
    {
     "name": "stdout",
     "output_type": "stream",
     "text": [
      "CPU times: user 3.78 s, sys: 82.3 ms, total: 3.86 s\n",
      "Wall time: 4.03 s\n"
     ]
    }
   ],
   "source": [
    "%%time\n",
    "df.to_parquet(\"gzip.parquet\", compression = \"gzip\")\n",
    "#read_parquet infers gzip\n",
    "\n",
    "#sometimese CPU>wall clock time. how? multiple cores!"
   ]
  },
  {
   "cell_type": "code",
   "execution_count": 14,
   "id": "54e191b2-229d-4cef-90ed-9d511c80e1e0",
   "metadata": {
    "tags": []
   },
   "outputs": [
    {
     "name": "stdout",
     "output_type": "stream",
     "text": [
      "total 231M\n",
      "-rw-rw-r-- 1 tcoan tcoan  13K Feb 27 23:59 2-10to2-13threadsandlocks.ipynb\n",
      "drwxrwxr-x 2 tcoan tcoan 4.0K Feb 26 03:28 2-17docker\n",
      "drwxrwxr-x 2 tcoan tcoan 4.0K Feb 26 03:29 2-17rpc\n",
      "-rw-rw-r-- 1 tcoan tcoan  11K Mar  6 23:13 2-24formatsandDBs.ipynb\n",
      "-rw-rw-r-- 1 tcoan tcoan  84K Feb 24 01:58 2-3to2-6pytorch-demo.ipynb\n",
      "-rw-rw-r-- 1 tcoan tcoan  95K Feb 24 01:58 2-8to2-10pytorch-ml.ipynb\n",
      "drwxrwxr-x 2 tcoan tcoan 4.0K Feb 25 03:18 __pycache__\n",
      "-rw-rw-r-- 1 tcoan tcoan  13M Mar  6 23:14 gzip.parquet\n",
      "-rw-r----- 1 tcoan tcoan 167M Nov  1 18:05 hdma-wi-2021.csv\n",
      "-rw-rw-r-- 1 tcoan tcoan  21M Jan  5 20:30 hdma-wi-2021.zip\n",
      "-rw-rw-r-- 1 tcoan tcoan  16M Mar  6 23:01 loans.parquet\n",
      "-rw-rw-r-- 1 tcoan tcoan  374 Feb 24 02:13 math.proto~\n",
      "-rw-rw-r-- 1 tcoan tcoan  16M Mar  6 23:12 snappy.parquet\n"
     ]
    }
   ],
   "source": [
    "!ls -lh \n",
    "#gzip is smaller in size!"
   ]
  },
  {
   "cell_type": "code",
   "execution_count": null,
   "id": "3b81fa36-f4d0-4eed-b585-581114a40814",
   "metadata": {},
   "outputs": [],
   "source": []
  }
 ],
 "metadata": {
  "kernelspec": {
   "display_name": "Python 3 (ipykernel)",
   "language": "python",
   "name": "python3"
  },
  "language_info": {
   "codemirror_mode": {
    "name": "ipython",
    "version": 3
   },
   "file_extension": ".py",
   "mimetype": "text/x-python",
   "name": "python",
   "nbconvert_exporter": "python",
   "pygments_lexer": "ipython3",
   "version": "3.10.6"
  }
 },
 "nbformat": 4,
 "nbformat_minor": 5
}
