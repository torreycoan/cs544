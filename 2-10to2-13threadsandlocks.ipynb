{
 "cells": [
  {
   "cell_type": "code",
   "execution_count": 2,
   "id": "37227bf1",
   "metadata": {},
   "outputs": [],
   "source": [
    "import threading\n",
    "import torch"
   ]
  },
  {
   "cell_type": "code",
   "execution_count": 2,
   "id": "fbd96b4e",
   "metadata": {},
   "outputs": [
    {
     "name": "stdout",
     "output_type": "stream",
     "text": [
      "hi from a threadhi from the main thread, which is  186488\n",
      " 186506\n"
     ]
    }
   ],
   "source": [
    "def task():\n",
    "    print(\"hi from a thread\", threading.get_native_id()) #id is useful for debugging\n",
    "\n",
    "t = threading.Thread(target = task) #target = name of function u want to run on this thread\n",
    "t.start() #start thread\n",
    "#now this program has 2 threads. main and this\n",
    "print(\"hi from the main thread, which is \", threading.get_native_id())"
   ]
  },
  {
   "cell_type": "code",
   "execution_count": 3,
   "id": "162c72b7",
   "metadata": {},
   "outputs": [
    {
     "name": "stdout",
     "output_type": "stream",
     "text": [
      "499999500000\n"
     ]
    }
   ],
   "source": [
    "total = 0\n",
    "\n",
    "def adder(count):\n",
    "    global total\n",
    "    for i in range(count):\n",
    "        total += i\n",
    "        \n",
    "t = threading.Thread(target=adder, args=[1000000]) #start another thread, pass in count value = 10000 into the parameter\n",
    "t.start()\n",
    "# wait until the thread is done (otherwise we get an inaccurate count when we do big numbers for count! nondeterministic bug. this is bc the loop takes a while and one thread is running that n it might context switch to main thread adn print off the current total)\n",
    "    #race condition - any time when whether or not output is correct depends on what scheduler decides\n",
    "t.join() #have fixed the race conditions. those can be tricky bc sometimes they happen only 1 in a million times\n",
    "print(total)"
   ]
  },
  {
   "cell_type": "code",
   "execution_count": 7,
   "id": "5cc7b8bc",
   "metadata": {},
   "outputs": [],
   "source": [
    "total = torch.tensor(0, dtype = torch.int32)\n",
    "\n",
    "def count_up(count):\n",
    "    global total\n",
    "    for i in range(count):\n",
    "        total+=1 #when this runs on python VM, this gets broken into  several smaller instructions\n",
    "        \n",
    "t1 = threading.Thread(target = count_up, args = [1000000])\n",
    "t2 = threading.Thread(target = count_up, args = [1000000])\n",
    "t1.start()\n",
    "t2.start()\n",
    "t1.join()\n",
    "t2.join()"
   ]
  },
  {
   "cell_type": "code",
   "execution_count": 8,
   "id": "b4203b21",
   "metadata": {},
   "outputs": [
    {
     "data": {
      "text/plain": [
       "tensor(1999560, dtype=torch.int32)"
      ]
     },
     "execution_count": 8,
     "metadata": {},
     "output_type": "execute_result"
    }
   ],
   "source": [
    "total #that's not right!"
   ]
  },
  {
   "cell_type": "code",
   "execution_count": 9,
   "id": "02b70a7f",
   "metadata": {},
   "outputs": [
    {
     "name": "stdout",
     "output_type": "stream",
     "text": [
      "  1           0 LOAD_CONST               0 (None)\n",
      "              2 RETURN_VALUE\n"
     ]
    }
   ],
   "source": [
    "#let's see why this error is happening by seeing what's going on in the python VM\n",
    "import dis\n",
    "dis.dis(\"\")"
   ]
  },
  {
   "cell_type": "code",
   "execution_count": 10,
   "id": "a5108c22",
   "metadata": {
    "scrolled": true
   },
   "outputs": [
    {
     "name": "stdout",
     "output_type": "stream",
     "text": [
      "  1           0 LOAD_NAME                0 (total)\n",
      "              2 LOAD_CONST               0 (1)\n",
      "              4 INPLACE_ADD\n",
      "              6 STORE_NAME               0 (total)\n",
      "              8 LOAD_CONST               1 (None)\n",
      "             10 RETURN_VALUE\n"
     ]
    }
   ],
   "source": [
    "dis.dis(\"total+=1\")\n",
    "#just adding 1 to a variable is a 4 step process (until STORE_NAME)\n",
    "\n",
    "#see race conditions worksheet"
   ]
  },
  {
   "cell_type": "code",
   "execution_count": 3,
   "id": "366e90be",
   "metadata": {},
   "outputs": [
    {
     "name": "stdout",
     "output_type": "stream",
     "text": [
      "seconds 10.628129243850708\n"
     ]
    },
    {
     "data": {
      "text/plain": [
       "tensor(1999749, dtype=torch.int32)"
      ]
     },
     "execution_count": 3,
     "metadata": {},
     "output_type": "execute_result"
    }
   ],
   "source": [
    "import time\n",
    "total = torch.tensor(0, dtype=torch.int32)\n",
    "\n",
    "def count_up(count):\n",
    "    global total\n",
    "    for i in range(count):\n",
    "        total += 1\n",
    "\n",
    "t1 = threading.Thread(target=count_up, args=[1000000])\n",
    "t2 = threading.Thread(target=count_up, args=[1000000])\n",
    "start = time.time()\n",
    "t1.start()\n",
    "t2.start()\n",
    "t1.join()\n",
    "t2.join()\n",
    "end = time.time()\n",
    "\n",
    "print(\"seconds\", end-start)\n",
    "total"
   ]
  },
  {
   "cell_type": "code",
   "execution_count": 4,
   "id": "bd8202e1",
   "metadata": {},
   "outputs": [
    {
     "name": "stdout",
     "output_type": "stream",
     "text": [
      "seconds 36.16609764099121\n"
     ]
    },
    {
     "data": {
      "text/plain": [
       "tensor(2000000, dtype=torch.int32)"
      ]
     },
     "execution_count": 4,
     "metadata": {},
     "output_type": "execute_result"
    }
   ],
   "source": [
    "# add locking\n",
    "import time\n",
    "\n",
    "total = torch.tensor(0, dtype=torch.int32)\n",
    "lock = threading.Lock() # protects the global variable \"total\"\n",
    "\n",
    "def count_up(count):\n",
    "    global total\n",
    "    for i in range(count):\n",
    "        lock.acquire() #expensive operation! don't overuse\n",
    "        total += 1\n",
    "        lock.release()\n",
    "\n",
    "t1 = threading.Thread(target=count_up, args=[1000000])\n",
    "t2 = threading.Thread(target=count_up, args=[1000000])\n",
    "start = time.time()\n",
    "t1.start()\n",
    "t2.start()\n",
    "t1.join()\n",
    "t2.join()\n",
    "end = time.time()\n",
    "\n",
    "print(\"seconds\", end-start)\n",
    "total\n",
    "#ran slower, but right result!\n",
    "#let's try saving time next with the coarse grained lock"
   ]
  },
  {
   "cell_type": "code",
   "execution_count": null,
   "id": "bf2daa88",
   "metadata": {},
   "outputs": [],
   "source": [
    "# add locking (coarse grained - hold lock for a long time)\n",
    "import time\n",
    "\n",
    "total = torch.tensor(0, dtype=torch.int32)\n",
    "lock = threading.Lock() # protects total\n",
    "\n",
    "def count_up(count):\n",
    "    global total\n",
    "    lock.acquire()\n",
    "    for i in range(count):\n",
    "        total += 1\n",
    "    lock.release()\n",
    "\n",
    "t1 = threading.Thread(target=count_up, args=[1000000])\n",
    "t2 = threading.Thread(target=count_up, args=[1000000])\n",
    "start = time.time()\n",
    "t1.start()\n",
    "t2.start()\n",
    "t1.join()\n",
    "t2.join()\n",
    "end = time.time()\n",
    "\n",
    "print(\"seconds\", end-start)\n",
    "total"
   ]
  },
  {
   "cell_type": "markdown",
   "id": "f761fcbe",
   "metadata": {},
   "source": [
    "## Bad bank"
   ]
  },
  {
   "cell_type": "code",
   "execution_count": 13,
   "id": "1823d269",
   "metadata": {},
   "outputs": [],
   "source": [
    "bank_accounts = {\"x\": 25, \"y\": 100, \"z\": 200} # in dollars\n",
    "lock = threading.Lock() # protects bank_accounts\n",
    "\n",
    "def transfer(src, dst, amount):\n",
    "    lock.acquire()\n",
    "    success = False\n",
    "    if bank_accounts[src] >= amount:\n",
    "        bank_accounts[src] -= amount\n",
    "        bank_accounts[dst] += amount\n",
    "        success = True\n",
    "    print(\"transferred\" if success else \"denied\")\n",
    "    lock.release()"
   ]
  },
  {
   "cell_type": "code",
   "execution_count": 14,
   "id": "d84dddb0",
   "metadata": {},
   "outputs": [
    {
     "name": "stdout",
     "output_type": "stream",
     "text": [
      "transferred\n"
     ]
    }
   ],
   "source": [
    "transfer(\"x\", \"y\", 3) #this will work, same with if it had -3"
   ]
  },
  {
   "cell_type": "code",
   "execution_count": 15,
   "id": "7b81ad89",
   "metadata": {
    "scrolled": true
   },
   "outputs": [
    {
     "name": "stdout",
     "output_type": "stream",
     "text": [
      "{'x': 22, 'y': 103, 'z': 200}\n"
     ]
    },
    {
     "ename": "KeyError",
     "evalue": "'w'",
     "output_type": "error",
     "traceback": [
      "\u001b[0;31m---------------------------------------------------------------------------\u001b[0m",
      "\u001b[0;31mKeyError\u001b[0m                                  Traceback (most recent call last)",
      "Cell \u001b[0;32mIn[15], line 2\u001b[0m\n\u001b[1;32m      1\u001b[0m \u001b[38;5;28mprint\u001b[39m(bank_accounts)\n\u001b[0;32m----> 2\u001b[0m \u001b[43mtransfer\u001b[49m\u001b[43m(\u001b[49m\u001b[38;5;124;43m\"\u001b[39;49m\u001b[38;5;124;43mw\u001b[39;49m\u001b[38;5;124;43m\"\u001b[39;49m\u001b[43m,\u001b[49m\u001b[43m \u001b[49m\u001b[38;5;124;43m\"\u001b[39;49m\u001b[38;5;124;43my\u001b[39;49m\u001b[38;5;124;43m\"\u001b[39;49m\u001b[43m,\u001b[49m\u001b[43m \u001b[49m\u001b[38;5;241;43m-\u001b[39;49m\u001b[38;5;241;43m3\u001b[39;49m\u001b[43m)\u001b[49m \u001b[38;5;66;03m#this transfer will lead to error\u001b[39;00m\n\u001b[1;32m      3\u001b[0m \u001b[38;5;28mprint\u001b[39m(bank_accounts)\n",
      "Cell \u001b[0;32mIn[13], line 7\u001b[0m, in \u001b[0;36mtransfer\u001b[0;34m(src, dst, amount)\u001b[0m\n\u001b[1;32m      5\u001b[0m lock\u001b[38;5;241m.\u001b[39macquire()\n\u001b[1;32m      6\u001b[0m success \u001b[38;5;241m=\u001b[39m \u001b[38;5;28;01mFalse\u001b[39;00m\n\u001b[0;32m----> 7\u001b[0m \u001b[38;5;28;01mif\u001b[39;00m \u001b[43mbank_accounts\u001b[49m\u001b[43m[\u001b[49m\u001b[43msrc\u001b[49m\u001b[43m]\u001b[49m \u001b[38;5;241m>\u001b[39m\u001b[38;5;241m=\u001b[39m amount:\n\u001b[1;32m      8\u001b[0m     bank_accounts[src] \u001b[38;5;241m-\u001b[39m\u001b[38;5;241m=\u001b[39m amount\n\u001b[1;32m      9\u001b[0m     bank_accounts[dst] \u001b[38;5;241m+\u001b[39m\u001b[38;5;241m=\u001b[39m amount\n",
      "\u001b[0;31mKeyError\u001b[0m: 'w'"
     ]
    }
   ],
   "source": [
    "print(bank_accounts)\n",
    "transfer(\"w\", \"y\", -3) #this transfer will lead to error\n",
    "print(bank_accounts)\n",
    "#if this fails, the lock is never released! so will always get exception."
   ]
  },
  {
   "cell_type": "code",
   "execution_count": null,
   "id": "fe4aa8ab",
   "metadata": {},
   "outputs": [],
   "source": [
    "transfer(\"x\", \"y\", 1)\n"
   ]
  },
  {
   "cell_type": "code",
   "execution_count": null,
   "id": "5061bb1a",
   "metadata": {},
   "outputs": [],
   "source": [
    "print(bank_accounts)\n",
    "transfer(\"x\", \"y\", 3)\n",
    "print(bank_accounts)"
   ]
  },
  {
   "cell_type": "code",
   "execution_count": null,
   "id": "f0bc7bba",
   "metadata": {},
   "outputs": [],
   "source": [
    "#fix the exception issue where the lock is never released\n",
    "bank_accounts = {\"x\": 25, \"y\": 100, \"z\": 200} # in dollars\n",
    "lock = threading.Lock() # protects bank_accounts\n",
    "\n",
    "def transfer(src, dst, amount):\n",
    "    #using a context manager to handle that exception!\n",
    "    with lock: #   calls lock.acquire() for me\n",
    "        success = False\n",
    "        if bank_accounts[src] >= amount:\n",
    "            bank_accounts[src] -= amount\n",
    "            bank_accounts[dst] += amount\n",
    "            success = True\n",
    "        print(\"transferred\" if success else \"denied\")\n",
    "    # calls lock.release() for me"
   ]
  },
  {
   "cell_type": "code",
   "execution_count": null,
   "id": "9a586dd3",
   "metadata": {},
   "outputs": [],
   "source": [
    "transfer(\"x\", \"y\", 1)"
   ]
  },
  {
   "cell_type": "code",
   "execution_count": null,
   "id": "e0d1b45a",
   "metadata": {},
   "outputs": [],
   "source": [
    "transfer(\"w\", \"y\", 1) #error but this time the with calls lock.release for us"
   ]
  },
  {
   "cell_type": "code",
   "execution_count": null,
   "id": "4d88c323",
   "metadata": {},
   "outputs": [],
   "source": [
    "transfer(\"x\", \"y\", 1)"
   ]
  },
  {
   "cell_type": "code",
   "execution_count": null,
   "id": "52379ace",
   "metadata": {},
   "outputs": [],
   "source": []
  },
  {
   "cell_type": "code",
   "execution_count": null,
   "id": "54df3cbb",
   "metadata": {},
   "outputs": [],
   "source": []
  }
 ],
 "metadata": {
  "kernelspec": {
   "display_name": "Python 3 (ipykernel)",
   "language": "python",
   "name": "python3"
  },
  "language_info": {
   "codemirror_mode": {
    "name": "ipython",
    "version": 3
   },
   "file_extension": ".py",
   "mimetype": "text/x-python",
   "name": "python",
   "nbconvert_exporter": "python",
   "pygments_lexer": "ipython3",
   "version": "3.10.6"
  }
 },
 "nbformat": 4,
 "nbformat_minor": 5
}
