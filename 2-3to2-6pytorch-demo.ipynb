{
 "cells": [
  {
   "cell_type": "markdown",
   "id": "b34337e5",
   "metadata": {},
   "source": [
    "## Lecture materials are here: https://github.com/cs544-wisc/s23/tree/main/lec\n",
    "\n",
    "Lecture: https://mediaspace.wisc.edu/media/Tyler%20Caraza-Harter-Science%20180-02_03_23-09%3A51%3A06/1_0g4vt031"
   ]
  },
  {
   "cell_type": "code",
   "execution_count": 1,
   "id": "2ff0b3d3",
   "metadata": {},
   "outputs": [],
   "source": [
    "import torch"
   ]
  },
  {
   "cell_type": "markdown",
   "id": "3b81aeb8",
   "metadata": {},
   "source": [
    "## Ints"
   ]
  },
  {
   "cell_type": "code",
   "execution_count": 2,
   "id": "4908c04e",
   "metadata": {},
   "outputs": [
    {
     "data": {
      "text/plain": [
       "2147483648"
      ]
     },
     "execution_count": 2,
     "metadata": {},
     "output_type": "execute_result"
    }
   ],
   "source": [
    "2**31\n",
    "#2^31"
   ]
  },
  {
   "cell_type": "code",
   "execution_count": 3,
   "id": "3adef2ba",
   "metadata": {},
   "outputs": [
    {
     "data": {
      "text/plain": [
       "tensor(2147483648)"
      ]
     },
     "execution_count": 3,
     "metadata": {},
     "output_type": "execute_result"
    }
   ],
   "source": [
    "torch.tensor(2**31, dtype=torch.int64)\n",
    "#dtype = datatype"
   ]
  },
  {
   "cell_type": "code",
   "execution_count": 4,
   "id": "a2888cd3",
   "metadata": {},
   "outputs": [
    {
     "data": {
      "text/plain": [
       "tensor(-2147483648, dtype=torch.int32)"
      ]
     },
     "execution_count": 4,
     "metadata": {},
     "output_type": "execute_result"
    }
   ],
   "source": [
    "\n",
    "torch.tensor(2**31, dtype=torch.int32)\n",
    "#this was supposed to error bc too large of a number...\n",
    "\n",
    "\n",
    "\n"
   ]
  },
  {
   "cell_type": "code",
   "execution_count": 5,
   "id": "48291663",
   "metadata": {},
   "outputs": [
    {
     "data": {
      "text/plain": [
       "tensor(2147483647, dtype=torch.int32)"
      ]
     },
     "execution_count": 5,
     "metadata": {},
     "output_type": "execute_result"
    }
   ],
   "source": [
    "\n",
    "x = torch.tensor(2**31-1, dtype=torch.int32)\n",
    "x"
   ]
  },
  {
   "cell_type": "code",
   "execution_count": 6,
   "id": "f1df119e",
   "metadata": {},
   "outputs": [
    {
     "data": {
      "text/plain": [
       "tensor(-2147483648, dtype=torch.int32)"
      ]
     },
     "execution_count": 6,
     "metadata": {},
     "output_type": "execute_result"
    }
   ],
   "source": [
    "smallnum = x + 1 # overflow: add to the biggest number and it wraps around to the smallest\n",
    "smallnum"
   ]
  },
  {
   "cell_type": "markdown",
   "id": "dfe21fdd",
   "metadata": {},
   "source": [
    "we only worry about errors during conversion (first line here)\n",
    "once its already in a tensor, we have to worry about overflow\n",
    "(overflow: its supposed to be a negative number but its positive. )\n",
    "\n",
    "Underflow: wraps around to the biggest"
   ]
  },
  {
   "cell_type": "code",
   "execution_count": 7,
   "id": "244a766d",
   "metadata": {},
   "outputs": [
    {
     "data": {
      "text/plain": [
       "tensor(2147483647, dtype=torch.int32)"
      ]
     },
     "execution_count": 7,
     "metadata": {},
     "output_type": "execute_result"
    }
   ],
   "source": [
    "smallnum - 1 # underflow"
   ]
  },
  {
   "cell_type": "markdown",
   "id": "cfccdca8",
   "metadata": {},
   "source": [
    "## Floats"
   ]
  },
  {
   "cell_type": "code",
   "execution_count": 8,
   "id": "492391ef",
   "metadata": {},
   "outputs": [
    {
     "data": {
      "text/plain": [
       "sys.float_info(max=1.7976931348623157e+308, max_exp=1024, max_10_exp=308, min=2.2250738585072014e-308, min_exp=-1021, min_10_exp=-307, dig=15, mant_dig=53, epsilon=2.220446049250313e-16, radix=2, rounds=1)"
      ]
     },
     "execution_count": 8,
     "metadata": {},
     "output_type": "execute_result"
    }
   ],
   "source": [
    "import sys\n",
    "sys.float_info "
   ]
  },
  {
   "cell_type": "code",
   "execution_count": 9,
   "id": "2900a44a",
   "metadata": {},
   "outputs": [
    {
     "data": {
      "text/plain": [
       "1.7976931348623157e+308"
      ]
     },
     "execution_count": 9,
     "metadata": {},
     "output_type": "execute_result"
    }
   ],
   "source": [
    "big = sys.float_info.max\n",
    "big #biggest possible float"
   ]
  },
  {
   "cell_type": "code",
   "execution_count": 10,
   "id": "a7238fa7",
   "metadata": {},
   "outputs": [
    {
     "data": {
      "text/plain": [
       "-1.7976931348623157e+308"
      ]
     },
     "execution_count": 10,
     "metadata": {},
     "output_type": "execute_result"
    }
   ],
   "source": [
    "small = -big\n",
    "small"
   ]
  },
  {
   "cell_type": "code",
   "execution_count": 11,
   "id": "81fdc739",
   "metadata": {},
   "outputs": [
    {
     "data": {
      "text/plain": [
       "inf"
      ]
     },
     "execution_count": 11,
     "metadata": {},
     "output_type": "execute_result"
    }
   ],
   "source": [
    "2*big #no overflow. saturates at infinity"
   ]
  },
  {
   "cell_type": "code",
   "execution_count": 12,
   "id": "b7f8df79",
   "metadata": {},
   "outputs": [
    {
     "data": {
      "text/plain": [
       "-inf"
      ]
     },
     "execution_count": 12,
     "metadata": {},
     "output_type": "execute_result"
    }
   ],
   "source": [
    "2*small"
   ]
  },
  {
   "cell_type": "code",
   "execution_count": 13,
   "id": "2c7213dc",
   "metadata": {},
   "outputs": [
    {
     "data": {
      "text/plain": [
       "nan"
      ]
     },
     "execution_count": 13,
     "metadata": {},
     "output_type": "execute_result"
    }
   ],
   "source": [
    "(2*big) + (3*small)"
   ]
  },
  {
   "cell_type": "code",
   "execution_count": 14,
   "id": "5287df2f",
   "metadata": {},
   "outputs": [
    {
     "data": {
      "text/plain": [
       "15"
      ]
     },
     "execution_count": 14,
     "metadata": {},
     "output_type": "execute_result"
    }
   ],
   "source": [
    "sys.float_info.dig\n",
    "# this is the num of digits after decimal place\n",
    "# where it is still faithfully preserved\n",
    "#level of precision. "
   ]
  },
  {
   "cell_type": "code",
   "execution_count": 15,
   "id": "a7791e52",
   "metadata": {},
   "outputs": [
    {
     "data": {
      "text/plain": [
       "False"
      ]
     },
     "execution_count": 15,
     "metadata": {},
     "output_type": "execute_result"
    }
   ],
   "source": [
    "# guaranteed 15 decimal points of precision (sys_info.dig)\n",
    "x = 1.234567812345678\n",
    "y = 1.234567812345679\n",
    "x == y"
   ]
  },
  {
   "cell_type": "code",
   "execution_count": 16,
   "id": "dcc5a897",
   "metadata": {},
   "outputs": [
    {
     "data": {
      "text/plain": [
       "True"
      ]
     },
     "execution_count": 16,
     "metadata": {},
     "output_type": "execute_result"
    }
   ],
   "source": [
    "# can't handle this level of precision\n",
    "x = 1.2345678123456780\n",
    "y = 1.2345678123456781\n",
    "x == y"
   ]
  },
  {
   "cell_type": "markdown",
   "id": "4dff5cde",
   "metadata": {},
   "source": [
    "# 2-6: pytorch optimization\n",
    "\n",
    "## Matrices and operations on them"
   ]
  },
  {
   "cell_type": "code",
   "execution_count": 17,
   "id": "a6ac24ed",
   "metadata": {},
   "outputs": [
    {
     "data": {
      "text/plain": [
       "tensor(3.1400)"
      ]
     },
     "execution_count": 17,
     "metadata": {},
     "output_type": "execute_result"
    }
   ],
   "source": [
    "torch.tensor(3.14) #this is a tensor. we are putting a value in it. "
   ]
  },
  {
   "cell_type": "code",
   "execution_count": 18,
   "id": "de9d78cd",
   "metadata": {},
   "outputs": [
    {
     "data": {
      "text/plain": [
       "tensor([0.3797])"
      ]
     },
     "execution_count": 18,
     "metadata": {},
     "output_type": "execute_result"
    }
   ],
   "source": [
    "torch.rand(1) # get 1 random number"
   ]
  },
  {
   "cell_type": "code",
   "execution_count": 19,
   "id": "7692d7f0",
   "metadata": {},
   "outputs": [
    {
     "data": {
      "text/plain": [
       "tensor([[0.2364, 0.2266, 0.8005],\n",
       "        [0.1692, 0.2650, 0.7720],\n",
       "        [0.1282, 0.7452, 0.8045],\n",
       "        [0.6357, 0.5896, 0.6933],\n",
       "        [0.8782, 0.5407, 0.1400],\n",
       "        [0.9613, 0.8666, 0.4884],\n",
       "        [0.2077, 0.3063, 0.0585],\n",
       "        [0.8314, 0.4566, 0.8445],\n",
       "        [0.6883, 0.4008, 0.1803],\n",
       "        [0.6740, 0.1792, 0.3889]])"
      ]
     },
     "execution_count": 19,
     "metadata": {},
     "output_type": "execute_result"
    }
   ],
   "source": [
    "torch.manual_seed(41) # set seed\n",
    "A = torch.rand(10, 3) # get a tensor with 10 rows, 3 columns\n",
    "A\n",
    "\n",
    "# not a list of lists. rows can be diff sizes. \n",
    "#torch.rand(10, 3, 3) # 3 dimensional "
   ]
  },
  {
   "cell_type": "code",
   "execution_count": 20,
   "id": "ed5cba0d",
   "metadata": {},
   "outputs": [
    {
     "data": {
      "text/plain": [
       "torch.float32"
      ]
     },
     "execution_count": 20,
     "metadata": {},
     "output_type": "execute_result"
    }
   ],
   "source": [
    "#let's learn about this tensor\n",
    "\n",
    "A.dtype"
   ]
  },
  {
   "cell_type": "code",
   "execution_count": 21,
   "id": "f796795f",
   "metadata": {},
   "outputs": [
    {
     "data": {
      "text/plain": [
       "torch.Size([10, 3])"
      ]
     },
     "execution_count": 21,
     "metadata": {},
     "output_type": "execute_result"
    }
   ],
   "source": [
    "A.shape"
   ]
  },
  {
   "cell_type": "code",
   "execution_count": 22,
   "id": "aa49385e",
   "metadata": {},
   "outputs": [
    {
     "data": {
      "text/plain": [
       "device(type='cpu')"
      ]
     },
     "execution_count": 22,
     "metadata": {},
     "output_type": "execute_result"
    }
   ],
   "source": [
    "# is it in main memory, or on a GPU?\n",
    "A.device"
   ]
  },
  {
   "cell_type": "code",
   "execution_count": 23,
   "id": "2608f4d1",
   "metadata": {
    "scrolled": true
   },
   "outputs": [
    {
     "data": {
      "text/plain": [
       "120"
      ]
     },
     "execution_count": 23,
     "metadata": {},
     "output_type": "execute_result"
    }
   ],
   "source": [
    "#how much memory does this tensor take up?\n",
    "# 32 bits/8bits per byte * 30 numbers (elements) = 120\n",
    "\n",
    "A.element_size() * A.nelement()"
   ]
  },
  {
   "cell_type": "markdown",
   "id": "5e8ae3f7",
   "metadata": {},
   "source": [
    "tophat: torch.rand(1024,1024,dtype=torch.float32)\n",
    "\n",
    "abouthow much memory to store these elements?\n",
    "\n",
    "32 bits/8 bits per byte * 1024 * 1024 elements = 4194304 bytes = 4 MB (LEARN ABOUT CONVERTING BETWEEN BYTES AND KB TB ETC)"
   ]
  },
  {
   "cell_type": "code",
   "execution_count": 24,
   "id": "25ba771d",
   "metadata": {},
   "outputs": [
    {
     "data": {
      "text/plain": [
       "tensor([[0.3779, 0.8043, 0.4584],\n",
       "        [0.3383, 0.5398, 0.6478],\n",
       "        [0.8789, 0.7605, 0.7240],\n",
       "        [0.5918, 0.5291, 0.9478],\n",
       "        [0.2252, 0.8642, 0.2887],\n",
       "        [0.3894, 0.5066, 0.2819],\n",
       "        [0.7151, 0.9181, 0.4914],\n",
       "        [0.3961, 0.0870, 0.5667],\n",
       "        [0.6436, 0.8821, 0.6333],\n",
       "        [0.8248, 0.4814, 0.5264]], dtype=torch.float64)"
      ]
     },
     "execution_count": 24,
     "metadata": {},
     "output_type": "execute_result"
    }
   ],
   "source": [
    "# how to change these aspects? \n",
    "#(dtype, shape, device)\n",
    "A = torch.rand(10, 3, dtype=torch.float64)\n",
    "#cuda means gpu\n",
    "if torch.cuda.is_available():\n",
    "    print(\"on GPU\")\n",
    "    A = A.to(\"cuda\") #move it to GPU if it is available\n",
    "A\n",
    "\n",
    "#.to() can change device and number type\n",
    "#no cuda GPU available :( )"
   ]
  },
  {
   "cell_type": "code",
   "execution_count": 25,
   "id": "4c0cbb81",
   "metadata": {},
   "outputs": [
    {
     "data": {
      "text/plain": [
       "tensor([[0.3779, 0.8043, 0.4584, 0.3383, 0.5398, 0.6478, 0.8789, 0.7605, 0.7240,\n",
       "         0.5918, 0.5291, 0.9478, 0.2252, 0.8642, 0.2887],\n",
       "        [0.3894, 0.5066, 0.2819, 0.7151, 0.9181, 0.4914, 0.3961, 0.0870, 0.5667,\n",
       "         0.6436, 0.8821, 0.6333, 0.8248, 0.4814, 0.5264]], dtype=torch.float64)"
      ]
     },
     "execution_count": 25,
     "metadata": {},
     "output_type": "execute_result"
    }
   ],
   "source": [
    "A.reshape(2, 15)"
   ]
  },
  {
   "cell_type": "code",
   "execution_count": 26,
   "id": "20f212ec",
   "metadata": {},
   "outputs": [
    {
     "data": {
      "text/plain": [
       "tensor([[0.3779, 0.8043, 0.4584, 0.3383, 0.5398, 0.6478, 0.8789, 0.7605, 0.7240,\n",
       "         0.5918, 0.5291, 0.9478, 0.2252, 0.8642, 0.2887],\n",
       "        [0.3894, 0.5066, 0.2819, 0.7151, 0.9181, 0.4914, 0.3961, 0.0870, 0.5667,\n",
       "         0.6436, 0.8821, 0.6333, 0.8248, 0.4814, 0.5264]], dtype=torch.float64)"
      ]
     },
     "execution_count": 26,
     "metadata": {},
     "output_type": "execute_result"
    }
   ],
   "source": [
    "A.reshape(2, -1)\n",
    "#-1 means however long necessary to make it work"
   ]
  },
  {
   "cell_type": "code",
   "execution_count": 27,
   "id": "4cfa1c3f",
   "metadata": {},
   "outputs": [
    {
     "data": {
      "text/plain": [
       "tensor([[0.3779, 0.8043, 0.4584],\n",
       "        [0.3383, 0.5398, 0.6478],\n",
       "        [0.8789, 0.7605, 0.7240],\n",
       "        [0.5918, 0.5291, 0.9478],\n",
       "        [0.2252, 0.8642, 0.2887],\n",
       "        [0.3894, 0.5066, 0.2819],\n",
       "        [0.7151, 0.9181, 0.4914],\n",
       "        [0.3961, 0.0870, 0.5667],\n",
       "        [0.6436, 0.8821, 0.6333],\n",
       "        [0.8248, 0.4814, 0.5264]], dtype=torch.float64)"
      ]
     },
     "execution_count": 27,
     "metadata": {},
     "output_type": "execute_result"
    }
   ],
   "source": [
    "A.to(torch.float64) #change from float32 to float 64"
   ]
  },
  {
   "cell_type": "code",
   "execution_count": 28,
   "id": "c037cbcc",
   "metadata": {},
   "outputs": [
    {
     "data": {
      "text/plain": [
       "torch.Size([10, 3])"
      ]
     },
     "execution_count": 28,
     "metadata": {},
     "output_type": "execute_result"
    }
   ],
   "source": [
    "A.shape"
   ]
  },
  {
   "cell_type": "code",
   "execution_count": 29,
   "id": "f3f16e25",
   "metadata": {},
   "outputs": [
    {
     "data": {
      "text/plain": [
       "torch.Size([3, 10])"
      ]
     },
     "execution_count": 29,
     "metadata": {},
     "output_type": "execute_result"
    }
   ],
   "source": [
    "A.T.shape #take the transpose. flip rows and cols"
   ]
  },
  {
   "cell_type": "markdown",
   "id": "2fa88522",
   "metadata": {},
   "source": [
    "## Calculation\n",
    "* elementwise operations\n",
    "* sigmoid\n",
    "* mtx multiplication"
   ]
  },
  {
   "cell_type": "code",
   "execution_count": 30,
   "id": "e933c1d4",
   "metadata": {},
   "outputs": [
    {
     "data": {
      "text/plain": [
       "tensor([[0.3779, 0.8043, 0.4584],\n",
       "        [0.3383, 0.5398, 0.6478],\n",
       "        [0.8789, 0.7605, 0.7240],\n",
       "        [0.5918, 0.5291, 0.9478],\n",
       "        [0.2252, 0.8642, 0.2887],\n",
       "        [0.3894, 0.5066, 0.2819],\n",
       "        [0.7151, 0.9181, 0.4914],\n",
       "        [0.3961, 0.0870, 0.5667],\n",
       "        [0.6436, 0.8821, 0.6333],\n",
       "        [0.8248, 0.4814, 0.5264]], dtype=torch.float64)"
      ]
     },
     "execution_count": 30,
     "metadata": {},
     "output_type": "execute_result"
    }
   ],
   "source": [
    "A"
   ]
  },
  {
   "cell_type": "code",
   "execution_count": 31,
   "id": "e9f633ab",
   "metadata": {},
   "outputs": [
    {
     "data": {
      "text/plain": [
       "tensor([[0.7559, 1.6086, 0.9167],\n",
       "        [0.6765, 1.0796, 1.2956],\n",
       "        [1.7578, 1.5209, 1.4481],\n",
       "        [1.1837, 1.0582, 1.8956],\n",
       "        [0.4503, 1.7285, 0.5773],\n",
       "        [0.7787, 1.0133, 0.5637],\n",
       "        [1.4302, 1.8362, 0.9828],\n",
       "        [0.7922, 0.1739, 1.1334],\n",
       "        [1.2872, 1.7642, 1.2666],\n",
       "        [1.6497, 0.9629, 1.0528]], dtype=torch.float64)"
      ]
     },
     "execution_count": 31,
     "metadata": {},
     "output_type": "execute_result"
    }
   ],
   "source": [
    "A + A"
   ]
  },
  {
   "cell_type": "code",
   "execution_count": 32,
   "id": "b81cfba3",
   "metadata": {},
   "outputs": [
    {
     "data": {
      "text/plain": [
       "tensor([[100.3779, 100.8043, 100.4584],\n",
       "        [100.3383, 100.5398, 100.6478],\n",
       "        [100.8789, 100.7605, 100.7240],\n",
       "        [100.5918, 100.5291, 100.9478],\n",
       "        [100.2252, 100.8642, 100.2887],\n",
       "        [100.3894, 100.5066, 100.2819],\n",
       "        [100.7151, 100.9181, 100.4914],\n",
       "        [100.3961, 100.0870, 100.5667],\n",
       "        [100.6436, 100.8821, 100.6333],\n",
       "        [100.8248, 100.4814, 100.5264]], dtype=torch.float64)"
      ]
     },
     "execution_count": 32,
     "metadata": {},
     "output_type": "execute_result"
    }
   ],
   "source": [
    "A + 100 #add a constant to each value in mtx"
   ]
  },
  {
   "cell_type": "code",
   "execution_count": 33,
   "id": "ae1d7e8a",
   "metadata": {},
   "outputs": [
    {
     "data": {
      "text/plain": [
       "tensor(0.5000)"
      ]
     },
     "execution_count": 33,
     "metadata": {},
     "output_type": "execute_result"
    }
   ],
   "source": [
    "torch.sigmoid(torch.tensor(0.0)) #0 goes to 0.5\n",
    "#useful in ML\n",
    "# shaped like S curve\n",
    "#saturates at 0 and 1"
   ]
  },
  {
   "cell_type": "code",
   "execution_count": 34,
   "id": "0b17ddd9",
   "metadata": {},
   "outputs": [
    {
     "name": "stdout",
     "output_type": "stream",
     "text": [
      "tensor(1.)\n",
      "tensor(0.0067)\n",
      "tensor(0.9933)\n"
     ]
    }
   ],
   "source": [
    "print(torch.sigmoid(torch.tensor(99)))\n",
    "print(torch.sigmoid(torch.tensor(-5)))\n",
    "print(torch.sigmoid(torch.tensor(5)))"
   ]
  },
  {
   "cell_type": "code",
   "execution_count": 35,
   "id": "68891507",
   "metadata": {},
   "outputs": [
    {
     "data": {
      "text/plain": [
       "tensor([[0.5934, 0.6909, 0.6126],\n",
       "        [0.5838, 0.6318, 0.6565],\n",
       "        [0.7066, 0.6815, 0.6735],\n",
       "        [0.6438, 0.6293, 0.7207],\n",
       "        [0.5561, 0.7035, 0.5717],\n",
       "        [0.5961, 0.6240, 0.5700],\n",
       "        [0.6715, 0.7147, 0.6204],\n",
       "        [0.5977, 0.5217, 0.6380],\n",
       "        [0.6556, 0.7073, 0.6532],\n",
       "        [0.6953, 0.6181, 0.6286]], dtype=torch.float64)"
      ]
     },
     "execution_count": 35,
     "metadata": {},
     "output_type": "execute_result"
    }
   ],
   "source": [
    "torch.sigmoid(A) \n",
    "# element wise sigmoid() on each element"
   ]
  },
  {
   "cell_type": "code",
   "execution_count": 36,
   "id": "db66a7ab",
   "metadata": {},
   "outputs": [
    {
     "data": {
      "text/plain": [
       "tensor([[45.0700, 44.8305],\n",
       "        [44.9377, 44.8057],\n",
       "        [56.2928, 57.5919],\n",
       "        [44.6117, 44.3319],\n",
       "        [30.5819, 31.1441],\n",
       "        [48.3032, 48.3144],\n",
       "        [43.5691, 43.3780],\n",
       "        [42.1796, 42.4347]])"
      ]
     },
     "execution_count": 36,
     "metadata": {},
     "output_type": "execute_result"
    }
   ],
   "source": [
    "# matrix multiplication\n",
    "# @ is matrix multiplication (can be the dot product in other cases)\n",
    "# rule 1: column count of a matrix must equals row count of the next (when multiplying)\n",
    "# rule 2: final row count equals that of first matrix, final col count equals that of last matrix\n",
    "x = torch.rand(8, 4)\n",
    "y = torch.rand(4, 99)\n",
    "z = torch.rand(99, 2)\n",
    "x @ y @ z"
   ]
  },
  {
   "cell_type": "markdown",
   "id": "84b45a24",
   "metadata": {},
   "source": [
    "## Linear Model"
   ]
  },
  {
   "cell_type": "code",
   "execution_count": 37,
   "id": "2fdd4789",
   "metadata": {},
   "outputs": [
    {
     "data": {
      "text/plain": [
       "tensor([[0.0257, 0.6330, 0.9769],\n",
       "        [0.5736, 0.8785, 0.5516],\n",
       "        [0.0558, 0.6842, 0.4109],\n",
       "        [0.9854, 0.9863, 0.4046],\n",
       "        [0.0088, 0.3526, 0.7777],\n",
       "        [0.5554, 0.6215, 0.9914],\n",
       "        [0.1015, 0.1528, 0.4994],\n",
       "        [0.7564, 0.0591, 0.2893],\n",
       "        [0.0270, 0.1165, 0.5987],\n",
       "        [0.0746, 0.4451, 0.2884]])"
      ]
     },
     "execution_count": 37,
     "metadata": {},
     "output_type": "execute_result"
    }
   ],
   "source": [
    "# goal: make some kind of prediction for each of the 10 rows\n",
    "data = torch.rand(10, 3)\n",
    "data"
   ]
  },
  {
   "cell_type": "code",
   "execution_count": 38,
   "id": "7fc90727",
   "metadata": {},
   "outputs": [
    {
     "data": {
      "text/plain": [
       "Linear(in_features=3, out_features=1, bias=True)"
      ]
     },
     "execution_count": 38,
     "metadata": {},
     "output_type": "execute_result"
    }
   ],
   "source": [
    "# goal: make 1 predictions for each row\n",
    "model = torch.nn.Linear(3, 1) \n",
    "#nn = neural networks\n",
    "#first arg is in_features: 3 values coming in\n",
    "#2nd is out_features: 1 predictions\n",
    "model\n",
    "#model is just obj w tensors!"
   ]
  },
  {
   "cell_type": "code",
   "execution_count": 39,
   "id": "d9727fbb",
   "metadata": {},
   "outputs": [
    {
     "name": "stdout",
     "output_type": "stream",
     "text": [
      "torch.Size([3, 1])\n"
     ]
    },
    {
     "data": {
      "text/plain": [
       "tensor([[0.5265],\n",
       "        [0.2231],\n",
       "        [0.2057]], grad_fn=<PermuteBackward0>)"
      ]
     },
     "execution_count": 39,
     "metadata": {},
     "output_type": "execute_result"
    }
   ],
   "source": [
    "print(model.weight.T.shape) #should work to mult data * this \n",
    "model.weight.T"
   ]
  },
  {
   "cell_type": "code",
   "execution_count": 40,
   "id": "23df4dfc",
   "metadata": {},
   "outputs": [
    {
     "data": {
      "text/plain": [
       "Parameter containing:\n",
       "tensor([0.1124], requires_grad=True)"
      ]
     },
     "execution_count": 40,
     "metadata": {},
     "output_type": "execute_result"
    }
   ],
   "source": [
    "model.bias #will add this in after mtx mult"
   ]
  },
  {
   "cell_type": "code",
   "execution_count": 41,
   "id": "a141ccf3",
   "metadata": {},
   "outputs": [
    {
     "data": {
      "text/plain": [
       "tensor([[0.4682],\n",
       "        [0.7239],\n",
       "        [0.3790],\n",
       "        [0.9345],\n",
       "        [0.3557],\n",
       "        [0.7475],\n",
       "        [0.3027],\n",
       "        [0.5833],\n",
       "        [0.2758],\n",
       "        [0.3103]], grad_fn=<AddBackward0>)"
      ]
     },
     "execution_count": 41,
     "metadata": {},
     "output_type": "execute_result"
    }
   ],
   "source": [
    "data @ model.weight.T + model.bias\n",
    "\n",
    "#can treat each of these as a prediction for \n",
    "# what our data tensor values are. \n",
    "# gonna be pretty bad! bc we just multiplied the data by a mtx of random numbers. "
   ]
  },
  {
   "cell_type": "code",
   "execution_count": 42,
   "id": "5a308767",
   "metadata": {},
   "outputs": [
    {
     "data": {
      "text/plain": [
       "tensor([[0.4682],\n",
       "        [0.7239],\n",
       "        [0.3790],\n",
       "        [0.9345],\n",
       "        [0.3557],\n",
       "        [0.7475],\n",
       "        [0.3027],\n",
       "        [0.5833],\n",
       "        [0.2758],\n",
       "        [0.3103]], grad_fn=<AddmmBackward0>)"
      ]
     },
     "execution_count": 42,
     "metadata": {},
     "output_type": "execute_result"
    }
   ],
   "source": [
    "# model is a \"callable\" object, meaning it works like function\n",
    "model(data) #gets same numbers as above (returns predictions for me!)"
   ]
  },
  {
   "cell_type": "code",
   "execution_count": 43,
   "id": "59390c5a",
   "metadata": {},
   "outputs": [
    {
     "data": {
      "text/plain": [
       "20"
      ]
     },
     "execution_count": 43,
     "metadata": {},
     "output_type": "execute_result"
    }
   ],
   "source": [
    "# make our own callable object\n",
    "\n",
    "class Mult:\n",
    "    def __init__(self, factor): #constructor. must put in self\n",
    "        self.factor = factor #attribute\n",
    "        \n",
    "    def __call__(self, number): #making the class callable with a special method. gets called implicitly/automatically. \n",
    "        return number * self.factor\n",
    "        #if not had this, couldn't call. \n",
    "double = Mult(2)\n",
    "double(10)"
   ]
  },
  {
   "cell_type": "code",
   "execution_count": 44,
   "id": "40f19037",
   "metadata": {},
   "outputs": [
    {
     "data": {
      "text/plain": [
       "15"
      ]
     },
     "execution_count": 44,
     "metadata": {},
     "output_type": "execute_result"
    }
   ],
   "source": [
    "triple = Mult(3)\n",
    "triple(5)"
   ]
  },
  {
   "cell_type": "code",
   "execution_count": 45,
   "id": "c6068683",
   "metadata": {},
   "outputs": [],
   "source": [
    "#this is what ppl r doing w these model objs!"
   ]
  },
  {
   "cell_type": "markdown",
   "id": "ffcac39b",
   "metadata": {},
   "source": [
    "## Optimization\n",
    "\n",
    "Rn the model we created has some random number basically. bad predictions prob. what if we put better numbers in there? better predictions!\n",
    "\n",
    "Let's optimize a function"
   ]
  },
  {
   "cell_type": "code",
   "execution_count": 46,
   "id": "fc50e76d",
   "metadata": {},
   "outputs": [
    {
     "data": {
      "text/plain": [
       "[<matplotlib.lines.Line2D at 0x7f5a154cda30>]"
      ]
     },
     "execution_count": 46,
     "metadata": {},
     "output_type": "execute_result"
    },
    {
     "data": {
      "image/png": "[encoded data removed]",
      "text/plain": [
       "<Figure size 640x480 with 1 Axes>"
      ]
     },
     "metadata": {},
     "output_type": "display_data"
    }
   ],
   "source": [
    "import matplotlib.pyplot as plt\n",
    "#had to pip3 install matplotlib\n",
    "\n",
    "def f(x):\n",
    "    return (x - 1) * (x + 2) * (x - 3) * (x + 6)\n",
    "\n",
    "x = torch.arange(-8, 5, 0.1)\n",
    "y = f(x)\n",
    "plt.plot(x, y)\n",
    "# optimization could be minimization or maximization\n",
    "# goal: choose x that minimizes y\n",
    "\n",
    "#this will draw a shape for us\n",
    "# we can see to min y, we want x=about -4.5"
   ]
  },
  {
   "cell_type": "code",
   "execution_count": 47,
   "id": "e2284275",
   "metadata": {},
   "outputs": [
    {
     "data": {
      "text/plain": [
       "tensor(36., grad_fn=<MulBackward0>)"
      ]
     },
     "execution_count": 47,
     "metadata": {},
     "output_type": "execute_result"
    }
   ],
   "source": [
    "x = torch.tensor(0.0, requires_grad=True) #our first guess. requires gradient\n",
    "y = f(x)\n",
    "y.backward() #required if we want to figure out gradient. this is saying we want slope of y over x\n",
    "y\n",
    "#is 36 good or bad, we don't know. \n",
    "#let's figure our shape of curve at x=0.\n",
    "#if its flat, maybe we are near bottom. if its sloped, we can prob change x to get better value\n",
    "#to do that, look at gradient\n",
    " "
   ]
  },
  {
   "cell_type": "code",
   "execution_count": 48,
   "id": "87dd2ad7",
   "metadata": {},
   "outputs": [
    {
     "data": {
      "text/plain": [
       "tensor(-24.)"
      ]
     },
     "execution_count": 48,
     "metadata": {},
     "output_type": "execute_result"
    }
   ],
   "source": [
    "#gradient - slope at a particular location.\n",
    "x.grad\n",
    "\n",
    "#gradient is -24 and we want to make y smallest. \n",
    "# should i make x bigger or smaller?\n",
    "# bigger (for now)! bigger x * negative slope = smaller y\n",
    "#let's try a bigger x value then. "
   ]
  },
  {
   "cell_type": "code",
   "execution_count": 49,
   "id": "01f1aa03",
   "metadata": {},
   "outputs": [
    {
     "name": "stdout",
     "output_type": "stream",
     "text": [
      "y:  tensor(36., grad_fn=<MulBackward0>)\n",
      "x.grad:  tensor(-24.)\n",
      "new x:  tensor(2.4000, requires_grad=True)\n",
      "new y:  tensor(-31.0464, grad_fn=<MulBackward0>)\n"
     ]
    }
   ],
   "source": [
    "x = torch.tensor(0.0, requires_grad=True)\n",
    "optimizer = torch.optim.SGD([x], lr = 0.1) #stochastic gradient descent\n",
    "# we want to find good x values, so its in the []\n",
    "#lr is learning rate\n",
    "# can set parameter maximize = True if want to maximize. it is automatically set to false. \n",
    "\n",
    "y = f(x)\n",
    "y.backward()\n",
    "print(\"y: \", y) # = 36 like before\n",
    "print(\"x.grad: \", x.grad) # = -24 like before\n",
    "optimizer.step()    # make a small change to the variables being optimized, based on the gradient\n",
    "print(\"new x: \", x) # we wanted to make x bigger. by how much? well we'll mult gradient by the learning rate. \n",
    "y = f(x) #compute y again\n",
    "print(\"new y: \", y)\n",
    "\n",
    "#we started w arbitrary x value and we just made it a little better!"
   ]
  },
  {
   "cell_type": "code",
   "execution_count": 51,
   "id": "cb792843",
   "metadata": {},
   "outputs": [
    {
     "name": "stdout",
     "output_type": "stream",
     "text": [
      "y tensor(36., grad_fn=<MulBackward0>)\n",
      "y tensor(29.3194, grad_fn=<MulBackward0>)\n",
      "y tensor(18.2556, grad_fn=<MulBackward0>)\n",
      "y tensor(2.5687, grad_fn=<MulBackward0>)\n"
     ]
    },
    {
     "data": {
      "image/png": "[encoded data removed]",
      "text/plain": [
       "<Figure size 640x480 with 1 Axes>"
      ]
     },
     "metadata": {},
     "output_type": "display_data"
    }
   ],
   "source": [
    "# how do we do that in a loop?\n",
    "x = torch.arange(-8, 5, 0.1)\n",
    "y = f(x)\n",
    "plt.plot(x, y)\n",
    "\n",
    "\n",
    "\n",
    "x = torch.tensor(0.0, requires_grad=True)\n",
    "optimizer = torch.optim.SGD([x], lr=0.01)   # lr is learning rate\n",
    "\n",
    "for epoch in range(4):\n",
    "    y = f(x)\n",
    "    plt.plot(x.detach(), y.detach(), \"ro\")\n",
    "    y.backward()\n",
    "    print(\"y\", y)\n",
    "    optimizer.step()    # doesn't set the grad, it adds to x.grad\n",
    "    optimizer.zero_grad()   # set x.grad = 0 before the next loop\n",
    "    \n",
    "#idk why its not showing the plot. basically the red circle is going off to the right"
   ]
  },
  {
   "cell_type": "code",
   "execution_count": null,
   "id": "9d5dad9f",
   "metadata": {},
   "outputs": [],
   "source": []
  }
 ],
 "metadata": {
  "kernelspec": {
   "display_name": "Python 3 (ipykernel)",
   "language": "python",
   "name": "python3"
  },
  "language_info": {
   "codemirror_mode": {
    "name": "ipython",
    "version": 3
   },
   "file_extension": ".py",
   "mimetype": "text/x-python",
   "name": "python",
   "nbconvert_exporter": "python",
   "pygments_lexer": "ipython3",
   "version": "3.10.6"
  }
 },
 "nbformat": 4,
 "nbformat_minor": 5
}
