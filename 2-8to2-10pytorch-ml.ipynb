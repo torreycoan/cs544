{
 "cells": [
  {
   "cell_type": "code",
   "execution_count": 28,
   "id": "f3daed2e",
   "metadata": {},
   "outputs": [
    {
     "name": "stderr",
     "output_type": "stream",
     "text": [
      "/tmp/ipykernel_180336/1707958151.py:5: DtypeWarning: Columns (5) have mixed types. Specify dtype option on import or set low_memory=False.\n",
      "  df = pd.read_csv(path, names=[\"station\", \"date\", \"element\", \"value\", \"m\", \"q\", \"s\", \"obs\"])\n"
     ]
    }
   ],
   "source": [
    "import torch\n",
    "import pandas as pd\n",
    "import matplotlib.pyplot as plt\n",
    "path = \"https://pages.cs.wisc.edu/~harter/cs639/data/wi-stations/USW00014837.csv.gz\"\n",
    "df = pd.read_csv(path, names=[\"station\", \"date\", \"element\", \"value\", \"m\", \"q\", \"s\", \"obs\"])\n",
    "\n",
    "#https://pages.cs.wisc.edu/~harter/cs639/data/wi-stations/USW00014839.csv.gz"
   ]
  },
  {
   "cell_type": "code",
   "execution_count": 2,
   "id": "54d8acdc",
   "metadata": {},
   "outputs": [
    {
     "data": {
      "text/plain": [
       "0          True\n",
       "1          True\n",
       "2          True\n",
       "3          True\n",
       "4          True\n",
       "          ...  \n",
       "409846    False\n",
       "409847    False\n",
       "409848    False\n",
       "409849    False\n",
       "409850    False\n",
       "Name: element, Length: 409851, dtype: bool"
      ]
     },
     "execution_count": 2,
     "metadata": {},
     "output_type": "execute_result"
    }
   ],
   "source": [
    "df\n",
    "#for same station+date, there are mult rows bc diff measurements they are taking at diff regularity\n",
    "#looking for min and max temp\n",
    "df[\"element\"]\n",
    "df[\"element\"].isin([\"TMIN\", \"TMAX\"]) #for each value in column, is it one of TMIN or TMAX? figuring out which rows to care about"
   ]
  },
  {
   "cell_type": "code",
   "execution_count": 3,
   "id": "b06032f6",
   "metadata": {},
   "outputs": [
    {
     "data": {
      "text/html": [
       "<div>\n",
       "<style scoped>\n",
       "    .dataframe tbody tr th:only-of-type {\n",
       "        vertical-align: middle;\n",
       "    }\n",
       "\n",
       "    .dataframe tbody tr th {\n",
       "        vertical-align: top;\n",
       "    }\n",
       "\n",
       "    .dataframe thead th {\n",
       "        text-align: right;\n",
       "    }\n",
       "</style>\n",
       "<table border=\"1\" class=\"dataframe\">\n",
       "  <thead>\n",
       "    <tr style=\"text-align: right;\">\n",
       "      <th></th>\n",
       "      <th>station</th>\n",
       "      <th>date</th>\n",
       "      <th>element</th>\n",
       "      <th>value</th>\n",
       "      <th>m</th>\n",
       "      <th>q</th>\n",
       "      <th>s</th>\n",
       "      <th>obs</th>\n",
       "    </tr>\n",
       "  </thead>\n",
       "  <tbody>\n",
       "    <tr>\n",
       "      <th>0</th>\n",
       "      <td>USW00014837</td>\n",
       "      <td>19391001</td>\n",
       "      <td>TMAX</td>\n",
       "      <td>194</td>\n",
       "      <td>NaN</td>\n",
       "      <td>NaN</td>\n",
       "      <td>X</td>\n",
       "      <td>NaN</td>\n",
       "    </tr>\n",
       "    <tr>\n",
       "      <th>1</th>\n",
       "      <td>USW00014837</td>\n",
       "      <td>19391002</td>\n",
       "      <td>TMAX</td>\n",
       "      <td>211</td>\n",
       "      <td>NaN</td>\n",
       "      <td>NaN</td>\n",
       "      <td>X</td>\n",
       "      <td>NaN</td>\n",
       "    </tr>\n",
       "    <tr>\n",
       "      <th>2</th>\n",
       "      <td>USW00014837</td>\n",
       "      <td>19391003</td>\n",
       "      <td>TMAX</td>\n",
       "      <td>233</td>\n",
       "      <td>NaN</td>\n",
       "      <td>NaN</td>\n",
       "      <td>X</td>\n",
       "      <td>NaN</td>\n",
       "    </tr>\n",
       "    <tr>\n",
       "      <th>3</th>\n",
       "      <td>USW00014837</td>\n",
       "      <td>19391004</td>\n",
       "      <td>TMAX</td>\n",
       "      <td>272</td>\n",
       "      <td>NaN</td>\n",
       "      <td>NaN</td>\n",
       "      <td>X</td>\n",
       "      <td>NaN</td>\n",
       "    </tr>\n",
       "    <tr>\n",
       "      <th>4</th>\n",
       "      <td>USW00014837</td>\n",
       "      <td>19391005</td>\n",
       "      <td>TMAX</td>\n",
       "      <td>211</td>\n",
       "      <td>NaN</td>\n",
       "      <td>NaN</td>\n",
       "      <td>X</td>\n",
       "      <td>NaN</td>\n",
       "    </tr>\n",
       "  </tbody>\n",
       "</table>\n",
       "</div>"
      ],
      "text/plain": [
       "       station      date element  value    m    q  s  obs\n",
       "0  USW00014837  19391001    TMAX    194  NaN  NaN  X  NaN\n",
       "1  USW00014837  19391002    TMAX    211  NaN  NaN  X  NaN\n",
       "2  USW00014837  19391003    TMAX    233  NaN  NaN  X  NaN\n",
       "3  USW00014837  19391004    TMAX    272  NaN  NaN  X  NaN\n",
       "4  USW00014837  19391005    TMAX    211  NaN  NaN  X  NaN"
      ]
     },
     "execution_count": 3,
     "metadata": {},
     "output_type": "execute_result"
    }
   ],
   "source": [
    "df2 = df[df[\"element\"].isin([\"TMIN\", \"TMAX\"])] #filters to only rows that eval to True\n",
    "df2.head()"
   ]
  },
  {
   "cell_type": "code",
   "execution_count": 4,
   "id": "62d9be62",
   "metadata": {},
   "outputs": [
    {
     "data": {
      "text/html": [
       "<div>\n",
       "<style scoped>\n",
       "    .dataframe tbody tr th:only-of-type {\n",
       "        vertical-align: middle;\n",
       "    }\n",
       "\n",
       "    .dataframe tbody tr th {\n",
       "        vertical-align: top;\n",
       "    }\n",
       "\n",
       "    .dataframe thead th {\n",
       "        text-align: right;\n",
       "    }\n",
       "</style>\n",
       "<table border=\"1\" class=\"dataframe\">\n",
       "  <thead>\n",
       "    <tr style=\"text-align: right;\">\n",
       "      <th>element</th>\n",
       "      <th>TMAX</th>\n",
       "      <th>TMIN</th>\n",
       "    </tr>\n",
       "    <tr>\n",
       "      <th>date</th>\n",
       "      <th></th>\n",
       "      <th></th>\n",
       "    </tr>\n",
       "  </thead>\n",
       "  <tbody>\n",
       "    <tr>\n",
       "      <th>19391001</th>\n",
       "      <td>194</td>\n",
       "      <td>6</td>\n",
       "    </tr>\n",
       "    <tr>\n",
       "      <th>19391002</th>\n",
       "      <td>211</td>\n",
       "      <td>33</td>\n",
       "    </tr>\n",
       "    <tr>\n",
       "      <th>19391003</th>\n",
       "      <td>233</td>\n",
       "      <td>89</td>\n",
       "    </tr>\n",
       "    <tr>\n",
       "      <th>19391004</th>\n",
       "      <td>272</td>\n",
       "      <td>106</td>\n",
       "    </tr>\n",
       "    <tr>\n",
       "      <th>19391005</th>\n",
       "      <td>211</td>\n",
       "      <td>133</td>\n",
       "    </tr>\n",
       "  </tbody>\n",
       "</table>\n",
       "</div>"
      ],
      "text/plain": [
       "element   TMAX  TMIN\n",
       "date                \n",
       "19391001   194     6\n",
       "19391002   211    33\n",
       "19391003   233    89\n",
       "19391004   272   106\n",
       "19391005   211   133"
      ]
     },
     "execution_count": 4,
     "metadata": {},
     "output_type": "execute_result"
    }
   ],
   "source": [
    "# GOAL: predict TMAX given TMIN\n",
    "#need to get x and y in same row - use pd.pivot\n",
    "#want 1 row per date (index)\n",
    "#want the values in element column to be column header values\n",
    "temps = df2.pivot(index=\"date\", columns=\"element\", values=\"value\")\n",
    "temps.head()"
   ]
  },
  {
   "cell_type": "code",
   "execution_count": 5,
   "id": "fd90cb20",
   "metadata": {},
   "outputs": [
    {
     "data": {
      "text/plain": [
       "<AxesSubplot: xlabel='TMIN', ylabel='TMAX'>"
      ]
     },
     "execution_count": 5,
     "metadata": {},
     "output_type": "execute_result"
    },
    {
     "data": {
      "image/png": "[encoded data removed]",
      "text/plain": [
       "<Figure size 640x480 with 1 Axes>"
      ]
     },
     "metadata": {},
     "output_type": "display_data"
    }
   ],
   "source": [
    "temps.plot.scatter(x=\"TMIN\", y=\"TMAX\")\n",
    "#promising! can prob make predictions"
   ]
  },
  {
   "cell_type": "code",
   "execution_count": 6,
   "id": "4cfe24cb",
   "metadata": {},
   "outputs": [],
   "source": [
    "# PyTorch Data:\n",
    "# 1. Dataset (in charge of assigning a number to each piece of data)\n",
    "# 2. DataLoader: use DataSet, but provide shuffling and batching "
   ]
  },
  {
   "cell_type": "code",
   "execution_count": 7,
   "id": "e767e69c",
   "metadata": {},
   "outputs": [
    {
     "data": {
      "text/plain": [
       "tensor([[194.],\n",
       "        [211.],\n",
       "        [233.],\n",
       "        ...,\n",
       "        [ 28.],\n",
       "        [ 22.],\n",
       "        [  0.]])"
      ]
     },
     "execution_count": 7,
     "metadata": {},
     "output_type": "execute_result"
    }
   ],
   "source": [
    "#torch.utils.data.TensorDataset(X, Y) #can give it tensors to learn over. p1\n",
    "\n",
    "#temps[[\"TMAX\"]] gives dataframe w just that cov\n",
    "torch.tensor(temps[[\"TMAX\"]].values, dtype=torch.float32) "
   ]
  },
  {
   "cell_type": "code",
   "execution_count": 8,
   "id": "5b07a10b",
   "metadata": {},
   "outputs": [],
   "source": [
    "ds = torch.utils.data.TensorDataset(\n",
    "    torch.tensor(temps[[\"TMIN\"]].values, dtype=torch.float32), # X values\n",
    "    torch.tensor(temps[[\"TMAX\"]].values, dtype=torch.float32)) # Y values"
   ]
  },
  {
   "cell_type": "code",
   "execution_count": 9,
   "id": "702e85b2",
   "metadata": {},
   "outputs": [
    {
     "data": {
      "text/plain": [
       "(tensor([33.]), tensor([211.]))"
      ]
     },
     "execution_count": 9,
     "metadata": {},
     "output_type": "execute_result"
    }
   ],
   "source": [
    "ds[1] #looking at diff positions"
   ]
  },
  {
   "cell_type": "code",
   "execution_count": 10,
   "id": "da0c9e49",
   "metadata": {},
   "outputs": [
    {
     "data": {
      "text/plain": [
       "(torch.utils.data.dataset.TensorDataset,\n",
       " torch.utils.data.dataset.Dataset,\n",
       " typing.Generic,\n",
       " object)"
      ]
     },
     "execution_count": 10,
     "metadata": {},
     "output_type": "execute_result"
    }
   ],
   "source": [
    "type(ds).__mro__\n"
   ]
  },
  {
   "cell_type": "code",
   "execution_count": 11,
   "id": "bf57c5dc",
   "metadata": {},
   "outputs": [],
   "source": [
    "#instead of using tensor dataset, can build out own dataset time from scratch \n",
    "#so that we not need all data in memory at once"
   ]
  },
  {
   "cell_type": "code",
   "execution_count": 12,
   "id": "9fd4024d",
   "metadata": {},
   "outputs": [
    {
     "name": "stderr",
     "output_type": "stream",
     "text": [
      "/tmp/ipykernel_180336/2839003345.py:4: DtypeWarning: Columns (5) have mixed types. Specify dtype option on import or set low_memory=False.\n",
      "  df = pd.read_csv(path, names=[\"station\", \"date\", \"element\", \"value\", \"m\", \"q\", \"s\", \"obs\"])\n"
     ]
    }
   ],
   "source": [
    "class TempDS(torch.utils.data.dataset.Dataset): #making a dataset. in parenth helps it inherit from other sites (methods, etc)\n",
    "    def __init__(self, path): #constructor\n",
    "        #get data\n",
    "        df = pd.read_csv(path, names=[\"station\", \"date\", \"element\", \"value\", \"m\", \"q\", \"s\", \"obs\"])\n",
    "        #filter it\n",
    "        df2 = df[df[\"element\"].isin([\"TMIN\", \"TMAX\"])]\n",
    "        #pivot\n",
    "        temps = df2.pivot(index=\"date\", columns=\"element\", values=\"value\")\n",
    "        #get x and y values, set as attributes\n",
    "        self.X = torch.tensor(temps[[\"TMIN\"]].values, dtype=torch.float32)\n",
    "        self.Y = torch.tensor(temps[[\"TMAX\"]].values, dtype=torch.float32)\n",
    "     \n",
    "    def __getitem__(self, index):\n",
    "        return self.X[index], self.Y[index]\n",
    "    \n",
    "    def __len__(self):\n",
    "        return len(self.X)\n",
    "    \n",
    "    \n",
    "ds = TempDS(\"https://pages.cs.wisc.edu/~harter/cs639/data/wi-stations/USW00014837.csv.gz\")\n"
   ]
  },
  {
   "cell_type": "code",
   "execution_count": 13,
   "id": "7b02535e",
   "metadata": {},
   "outputs": [
    {
     "data": {
      "text/plain": [
       "(tensor([33.]), tensor([211.]))"
      ]
     },
     "execution_count": 13,
     "metadata": {},
     "output_type": "execute_result"
    }
   ],
   "source": [
    "ds[1] #can use brackets thanks to __getitem__"
   ]
  },
  {
   "cell_type": "code",
   "execution_count": 14,
   "id": "3dfbd594",
   "metadata": {},
   "outputs": [
    {
     "data": {
      "text/plain": [
       "(tensor([[  6.],\n",
       "         [ 33.],\n",
       "         [ 89.],\n",
       "         [106.],\n",
       "         [133.]]),\n",
       " tensor([[194.],\n",
       "         [211.],\n",
       "         [233.],\n",
       "         [272.],\n",
       "         [211.]]))"
      ]
     },
     "execution_count": 14,
     "metadata": {},
     "output_type": "execute_result"
    }
   ],
   "source": [
    "ds[:5] #get first 5 X and y values"
   ]
  },
  {
   "cell_type": "code",
   "execution_count": 15,
   "id": "606d605d",
   "metadata": {},
   "outputs": [
    {
     "data": {
      "text/plain": [
       "(tensor([[  6.],\n",
       "         [ 33.],\n",
       "         [ 89.],\n",
       "         ...,\n",
       "         [  0.],\n",
       "         [  0.],\n",
       "         [-32.]]),\n",
       " tensor([[194.],\n",
       "         [211.],\n",
       "         [233.],\n",
       "         ...,\n",
       "         [ 28.],\n",
       "         [ 22.],\n",
       "         [  0.]]))"
      ]
     },
     "execution_count": 15,
     "metadata": {},
     "output_type": "execute_result"
    }
   ],
   "source": [
    "ds[:] # get all of both x and y values"
   ]
  },
  {
   "cell_type": "code",
   "execution_count": 16,
   "id": "fb057f2a",
   "metadata": {},
   "outputs": [
    {
     "data": {
      "text/plain": [
       "30428"
      ]
     },
     "execution_count": 16,
     "metadata": {},
     "output_type": "execute_result"
    }
   ],
   "source": [
    "len(ds) #can use len() thanks to __len__"
   ]
  },
  {
   "cell_type": "code",
   "execution_count": 17,
   "id": "104b08a8",
   "metadata": {},
   "outputs": [
    {
     "data": {
      "text/plain": [
       "60856"
      ]
     },
     "execution_count": 17,
     "metadata": {},
     "output_type": "execute_result"
    }
   ],
   "source": [
    "len(ds+ds)"
   ]
  },
  {
   "cell_type": "code",
   "execution_count": 18,
   "id": "09317430",
   "metadata": {},
   "outputs": [
    {
     "name": "stderr",
     "output_type": "stream",
     "text": [
      "/tmp/ipykernel_180336/2839003345.py:4: DtypeWarning: Columns (5) have mixed types. Specify dtype option on import or set low_memory=False.\n",
      "  df = pd.read_csv(path, names=[\"station\", \"date\", \"element\", \"value\", \"m\", \"q\", \"s\", \"obs\"])\n"
     ]
    },
    {
     "data": {
      "text/plain": [
       "61404"
      ]
     },
     "execution_count": 18,
     "metadata": {},
     "output_type": "execute_result"
    }
   ],
   "source": [
    "ds2 = TempDS(\"https://pages.cs.wisc.edu/~harter/cs639/data/wi-stations/USW00014839.csv.gz\")\n",
    "len(ds + ds2)"
   ]
  },
  {
   "cell_type": "code",
   "execution_count": 19,
   "id": "b3472a04",
   "metadata": {},
   "outputs": [],
   "source": [
    "dl = torch.utils.data.DataLoader(ds, shuffle=True, batch_size=10)\n",
    "#passing in a dataset\n",
    "#can loop over dataloader\n",
    "#batch = 10 means 10 x and 10 y values"
   ]
  },
  {
   "cell_type": "code",
   "execution_count": 20,
   "id": "af66f93c",
   "metadata": {
    "scrolled": true
   },
   "outputs": [
    {
     "name": "stdout",
     "output_type": "stream",
     "text": [
      "tensor([[  39.],\n",
      "        [-272.],\n",
      "        [ -22.],\n",
      "        [ -22.],\n",
      "        [ -83.],\n",
      "        [  11.],\n",
      "        [ 100.],\n",
      "        [ 117.],\n",
      "        [-233.],\n",
      "        [ 178.]])\n",
      "tensor([[  89.],\n",
      "        [-144.],\n",
      "        [  22.],\n",
      "        [ 150.],\n",
      "        [  67.],\n",
      "        [ 183.],\n",
      "        [ 294.],\n",
      "        [ 283.],\n",
      "        [-100.],\n",
      "        [ 294.]])\n"
     ]
    }
   ],
   "source": [
    "for x, y in dl:\n",
    "    print(x)\n",
    "    print(y)\n",
    "    break\n",
    "    \n",
    "#EXAMPLE QUESTION: \n",
    "#i have this much RAM\n",
    "# each row of x and y are this large\n",
    "# what is biggest batch size i can do without runnning out of RAM?"
   ]
  },
  {
   "cell_type": "code",
   "execution_count": 21,
   "id": "bbfb6cea",
   "metadata": {},
   "outputs": [],
   "source": [
    "# review: Dataset, DataLoader, Model, Optimizer, Loss Function\n",
    "\n",
    "# model:\n",
    "# tmax = model(tmin) = tmin * weight + bias"
   ]
  },
  {
   "cell_type": "code",
   "execution_count": 22,
   "id": "c8b5c573",
   "metadata": {},
   "outputs": [
    {
     "name": "stdout",
     "output_type": "stream",
     "text": [
      "0 tensor(12763.1816, grad_fn=<MseLossBackward0>)\n",
      "1 tensor(11867.0547, grad_fn=<MseLossBackward0>)\n",
      "2 tensor(11316.8291, grad_fn=<MseLossBackward0>)\n",
      "3 tensor(9639.0508, grad_fn=<MseLossBackward0>)\n",
      "4 tensor(8878.0977, grad_fn=<MseLossBackward0>)\n",
      "5 tensor(8067.3003, grad_fn=<MseLossBackward0>)\n",
      "6 tensor(7427.7832, grad_fn=<MseLossBackward0>)\n",
      "7 tensor(6837.5112, grad_fn=<MseLossBackward0>)\n",
      "8 tensor(6413.0288, grad_fn=<MseLossBackward0>)\n",
      "9 tensor(5807.0146, grad_fn=<MseLossBackward0>)\n",
      "10 tensor(5394.8237, grad_fn=<MseLossBackward0>)\n",
      "11 tensor(5143.9424, grad_fn=<MseLossBackward0>)\n",
      "12 tensor(4739.0225, grad_fn=<MseLossBackward0>)\n",
      "13 tensor(4412.4678, grad_fn=<MseLossBackward0>)\n",
      "14 tensor(4153.4009, grad_fn=<MseLossBackward0>)\n",
      "15 tensor(3969.4292, grad_fn=<MseLossBackward0>)\n",
      "16 tensor(3729.3872, grad_fn=<MseLossBackward0>)\n",
      "17 tensor(3755.8279, grad_fn=<MseLossBackward0>)\n",
      "18 tensor(3384.7769, grad_fn=<MseLossBackward0>)\n",
      "19 tensor(3229.2310, grad_fn=<MseLossBackward0>)\n",
      "20 tensor(3123.5469, grad_fn=<MseLossBackward0>)\n",
      "21 tensor(2993.3118, grad_fn=<MseLossBackward0>)\n",
      "22 tensor(2888.0627, grad_fn=<MseLossBackward0>)\n",
      "23 tensor(2789.0303, grad_fn=<MseLossBackward0>)\n",
      "24 tensor(2715.4907, grad_fn=<MseLossBackward0>)\n",
      "25 tensor(2636.0281, grad_fn=<MseLossBackward0>)\n",
      "26 tensor(2572.6929, grad_fn=<MseLossBackward0>)\n",
      "27 tensor(2517.7119, grad_fn=<MseLossBackward0>)\n",
      "28 tensor(2470.7166, grad_fn=<MseLossBackward0>)\n",
      "29 tensor(2420.4612, grad_fn=<MseLossBackward0>)\n",
      "30 tensor(2384.3835, grad_fn=<MseLossBackward0>)\n",
      "31 tensor(2343.1272, grad_fn=<MseLossBackward0>)\n",
      "32 tensor(2322.2705, grad_fn=<MseLossBackward0>)\n",
      "33 tensor(2286.9634, grad_fn=<MseLossBackward0>)\n",
      "34 tensor(2277.2996, grad_fn=<MseLossBackward0>)\n",
      "35 tensor(2292.5068, grad_fn=<MseLossBackward0>)\n",
      "36 tensor(2247.5876, grad_fn=<MseLossBackward0>)\n",
      "37 tensor(2200.2207, grad_fn=<MseLossBackward0>)\n",
      "38 tensor(2283.0242, grad_fn=<MseLossBackward0>)\n",
      "39 tensor(2199.1074, grad_fn=<MseLossBackward0>)\n",
      "40 tensor(2170.9810, grad_fn=<MseLossBackward0>)\n",
      "41 tensor(2146.0220, grad_fn=<MseLossBackward0>)\n",
      "42 tensor(2145.5854, grad_fn=<MseLossBackward0>)\n",
      "43 tensor(2129.8132, grad_fn=<MseLossBackward0>)\n",
      "44 tensor(2173.3665, grad_fn=<MseLossBackward0>)\n",
      "45 tensor(2128.1243, grad_fn=<MseLossBackward0>)\n",
      "46 tensor(2107.8945, grad_fn=<MseLossBackward0>)\n",
      "47 tensor(2102.1277, grad_fn=<MseLossBackward0>)\n",
      "48 tensor(2120.3999, grad_fn=<MseLossBackward0>)\n",
      "49 tensor(2091.1565, grad_fn=<MseLossBackward0>)\n"
     ]
    }
   ],
   "source": [
    "model = torch.nn.Linear(1, 1) # set up linear model. 1 input (x) and 1 output value (y)\n",
    "optimizer = torch.optim.SGD([model.weight, model.bias], lr=0.00001) #want to optimize weight and bias, that's why theyre in there\n",
    "loss_fn = torch.nn.MSELoss() #loss function we will use\n",
    "\n",
    "\n",
    "# machine learning loop ML loop\n",
    "for epoch in range(50):\n",
    "    for batchx, batchy in dl:\n",
    "        predictedy = model(batchx) #model predictions based on those x values\n",
    "        loss = loss_fn(batchy, predictedy) #loss function that relates batchy to predY\n",
    "        # change model params based on loss?:\n",
    "        loss.backward()         # update weight.grad and bias.grad\n",
    "        optimizer.step()        # update weight and bias based on the gradients\n",
    "        optimizer.zero_grad()   # weight.grad = 0 and bias.grad = 0\n",
    "        \n",
    "        \n",
    "    # how well are we doing?\n",
    "    #hopefully MSE is decreasing\n",
    "    x, y = ds[:]\n",
    "    print(epoch, loss_fn(y, model(x)))\n",
    "    \n",
    "    #if u are getting nan, then learning rate probably too big. "
   ]
  },
  {
   "cell_type": "code",
   "execution_count": 23,
   "id": "0d4c7e24",
   "metadata": {},
   "outputs": [
    {
     "data": {
      "text/plain": [
       "(Parameter containing:\n",
       " tensor([[1.0632]], requires_grad=True),\n",
       " Parameter containing:\n",
       " tensor([105.3282], requires_grad=True))"
      ]
     },
     "execution_count": 23,
     "metadata": {},
     "output_type": "execute_result"
    }
   ],
   "source": [
    "model.weight, model.bias"
   ]
  },
  {
   "cell_type": "code",
   "execution_count": 25,
   "id": "9a9e62e3",
   "metadata": {},
   "outputs": [],
   "source": [
    "tmin = torch.arange(-400,300, dtype = torch.float32) #trying all numbers in this range\n",
    "predicted_tmax = model(tmin.reshape(-1,1)).reshape(-1)\n"
   ]
  },
  {
   "cell_type": "code",
   "execution_count": 29,
   "id": "23fa515d",
   "metadata": {},
   "outputs": [
    {
     "data": {
      "text/plain": [
       "[<matplotlib.lines.Line2D at 0x7fb70ab44730>]"
      ]
     },
     "execution_count": 29,
     "metadata": {},
     "output_type": "execute_result"
    },
    {
     "data": {
      "image/png": "[encoded data removed]",
      "text/plain": [
       "<Figure size 640x480 with 1 Axes>"
      ]
     },
     "metadata": {},
     "output_type": "display_data"
    }
   ],
   "source": [
    "temps.plot.scatter(x=\"TMIN\", y=\"TMAX\")\n",
    "plt.plot(tmin, predicted_tmax.detach(), \"r\") #.detach(): don't need to track anymore. (idk see min 21)"
   ]
  },
  {
   "cell_type": "code",
   "execution_count": null,
   "id": "b3c1eddc",
   "metadata": {},
   "outputs": [],
   "source": []
  }
 ],
 "metadata": {
  "kernelspec": {
   "display_name": "Python 3 (ipykernel)",
   "language": "python",
   "name": "python3"
  },
  "language_info": {
   "codemirror_mode": {
    "name": "ipython",
    "version": 3
   },
   "file_extension": ".py",
   "mimetype": "text/x-python",
   "name": "python",
   "nbconvert_exporter": "python",
   "pygments_lexer": "ipython3",
   "version": "3.10.6"
  }
 },
 "nbformat": 4,
 "nbformat_minor": 5
}
